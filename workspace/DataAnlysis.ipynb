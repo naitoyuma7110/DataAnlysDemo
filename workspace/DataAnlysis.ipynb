{
 "cells": [
  {
   "cell_type": "markdown",
   "id": "a4469c23",
   "metadata": {},
   "source": [
    "# 探索型データ分析\n",
    "Nishokaで取得したサンプルデータを利用しPythonライブラリによるデータ操作の基本を学ぶ。  \n",
    "データ内容を整理、視覚化し機械学習を行うための準備をする\n",
    "\n",
    "参考:Nishika・中古マンション価格予測 https://competition.nishika.com/competitions/mansion_pra/summary"
   ]
  },
  {
   "cell_type": "code",
   "execution_count": 4,
   "id": "635b011d",
   "metadata": {},
   "outputs": [],
   "source": [
    "# データ分析に必要なライブラリを読み込む\n",
    "import glob\n",
    "import pandas as pd\n",
    "import numpy as np\n",
    "import matplotlib.pyplot as plt\n",
    "import seaborn as sns\n",
    "%matplotlib inline"
   ]
  },
  {
   "cell_type": "code",
   "execution_count": 5,
   "id": "b39c340b",
   "metadata": {},
   "outputs": [],
   "source": [
    "# 全てのサンプルCSVを読み込む\n",
    "# CSVデータを配列で取得\n",
    "files = glob.glob(\"workspace/train/*.csv\")\n"
   ]
  },
  {
   "cell_type": "code",
   "execution_count": 6,
   "id": "a5d7d6f6",
   "metadata": {},
   "outputs": [
    {
     "name": "stderr",
     "output_type": "stream",
     "text": [
      "/tmp/ipykernel_11810/1387233916.py:4: DtypeWarning: Columns (10) have mixed types. Specify dtype option on import or set low_memory=False.\n",
      "  data_list.append(pd.read_csv(file, index_col=0))\n",
      "/tmp/ipykernel_11810/1387233916.py:4: DtypeWarning: Columns (10) have mixed types. Specify dtype option on import or set low_memory=False.\n",
      "  data_list.append(pd.read_csv(file, index_col=0))\n"
     ]
    }
   ],
   "source": [
    "# 取得したデータをread_csvで操作可能な値としてdata_listに配列として保存する\n",
    "data_list = []\n",
    "for file in files:\n",
    "  data_list.append(pd.read_csv(file, index_col=0))"
   ]
  },
  {
   "cell_type": "code",
   "execution_count": 7,
   "id": "c2ed8d58",
   "metadata": {},
   "outputs": [],
   "source": [
    "# 配列内のデータを全て１つに結合する\n",
    "df = pd.concat(data_list)"
   ]
  },
  {
   "cell_type": "code",
   "execution_count": 8,
   "id": "0234b667",
   "metadata": {},
   "outputs": [
    {
     "data": {
      "text/plain": [
       "(637351, 27)"
      ]
     },
     "execution_count": 8,
     "metadata": {},
     "output_type": "execute_result"
    }
   ],
   "source": [
    "# 行数と列数の表示\n",
    "df.shape"
   ]
  },
  {
   "cell_type": "code",
   "execution_count": 9,
   "id": "0ece03d0",
   "metadata": {},
   "outputs": [
    {
     "name": "stdout",
     "output_type": "stream",
     "text": [
      "<class 'pandas.core.frame.DataFrame'>\n",
      "Int64Index: 637351 entries, 1060685 to 47003572\n",
      "Data columns (total 27 columns):\n",
      " #   Column        Non-Null Count   Dtype  \n",
      "---  ------        --------------   -----  \n",
      " 0   種類            637351 non-null  object \n",
      " 1   地域            0 non-null       float64\n",
      " 2   市区町村コード       637351 non-null  int64  \n",
      " 3   都道府県名         637351 non-null  object \n",
      " 4   市区町村名         637351 non-null  object \n",
      " 5   地区名           637060 non-null  object \n",
      " 6   最寄駅：名称        634732 non-null  object \n",
      " 7   最寄駅：距離（分）     614306 non-null  object \n",
      " 8   間取り           615609 non-null  object \n",
      " 9   面積（㎡）         637351 non-null  object \n",
      " 10  土地の形状         0 non-null       float64\n",
      " 11  間口            0 non-null       float64\n",
      " 12  延床面積（㎡）       0 non-null       float64\n",
      " 13  建築年           619117 non-null  object \n",
      " 14  建物の構造         623423 non-null  object \n",
      " 15  用途            591214 non-null  object \n",
      " 16  今後の利用目的       275091 non-null  object \n",
      " 17  前面道路：方位       0 non-null       float64\n",
      " 18  前面道路：種類       0 non-null       float64\n",
      " 19  前面道路：幅員（ｍ）    0 non-null       float64\n",
      " 20  都市計画          618786 non-null  object \n",
      " 21  建ぺい率（％）       614848 non-null  float64\n",
      " 22  容積率（％）        614848 non-null  float64\n",
      " 23  取引時点          637351 non-null  object \n",
      " 24  改装            580431 non-null  object \n",
      " 25  取引の事情等        18275 non-null   object \n",
      " 26  取引価格（総額）_log  637351 non-null  float64\n",
      "dtypes: float64(10), int64(1), object(16)\n",
      "memory usage: 136.2+ MB\n"
     ]
    }
   ],
   "source": [
    "# 欠損データ数とデータタイプの表示\n",
    "df.info()"
   ]
  },
  {
   "cell_type": "code",
   "execution_count": 10,
   "id": "3ce87184",
   "metadata": {},
   "outputs": [
    {
     "data": {
      "text/plain": [
       "['地域', '土地の形状', '間口', '延床面積（㎡）', '前面道路：方位', '前面道路：種類', '前面道路：幅員（ｍ）']"
      ]
     },
     "execution_count": 10,
     "metadata": {},
     "output_type": "execute_result"
    }
   ],
   "source": [
    "# データが全てnullのカラムを削除したい\n",
    "\n",
    "# 空のカラムをリストに入れたい\n",
    "nonnull_list = []\n",
    "\n",
    "# データフレームの全ての各カラムに対しループ処理\n",
    "for col in df.columns:\n",
    "  nonnull = df[col].count()\n",
    "  if nonnull == 0:\n",
    "    # データが0のカラムをリストに追加\n",
    "    nonnull_list.append(col)\n",
    "\n",
    "nonnull_list"
   ]
  },
  {
   "cell_type": "code",
   "execution_count": 12,
   "id": "ddade1db",
   "metadata": {},
   "outputs": [],
   "source": [
    "# 上記の空のカラムを除外する\n",
    "df = df.drop(nonnull_list, axis=1)"
   ]
  },
  {
   "cell_type": "markdown",
   "id": "955e6afc",
   "metadata": {},
   "source": [
    "axisオプションはその処理を行に沿って実行するか、列に沿って実行するか指定する  \n",
    "https://qiita.com/Phoeboooo/items/b464b7df3c64a33caf94"
   ]
  },
  {
   "cell_type": "code",
   "execution_count": 14,
   "id": "093a93a9",
   "metadata": {},
   "outputs": [
    {
     "name": "stdout",
     "output_type": "stream",
     "text": [
      "<class 'pandas.core.frame.DataFrame'>\n",
      "Int64Index: 637351 entries, 1060685 to 47003572\n",
      "Data columns (total 20 columns):\n",
      " #   Column        Non-Null Count   Dtype  \n",
      "---  ------        --------------   -----  \n",
      " 0   種類            637351 non-null  object \n",
      " 1   市区町村コード       637351 non-null  int64  \n",
      " 2   都道府県名         637351 non-null  object \n",
      " 3   市区町村名         637351 non-null  object \n",
      " 4   地区名           637060 non-null  object \n",
      " 5   最寄駅：名称        634732 non-null  object \n",
      " 6   最寄駅：距離（分）     614306 non-null  object \n",
      " 7   間取り           615609 non-null  object \n",
      " 8   面積（㎡）         637351 non-null  object \n",
      " 9   建築年           619117 non-null  object \n",
      " 10  建物の構造         623423 non-null  object \n",
      " 11  用途            591214 non-null  object \n",
      " 12  今後の利用目的       275091 non-null  object \n",
      " 13  都市計画          618786 non-null  object \n",
      " 14  建ぺい率（％）       614848 non-null  float64\n",
      " 15  容積率（％）        614848 non-null  float64\n",
      " 16  取引時点          637351 non-null  object \n",
      " 17  改装            580431 non-null  object \n",
      " 18  取引の事情等        18275 non-null   object \n",
      " 19  取引価格（総額）_log  637351 non-null  float64\n",
      "dtypes: float64(3), int64(1), object(16)\n",
      "memory usage: 102.1+ MB\n"
     ]
    }
   ],
   "source": [
    "df.info()"
   ]
  },
  {
   "cell_type": "markdown",
   "id": "64ed9e1b",
   "metadata": {},
   "source": [
    "### 多重共線性  \n",
    "重回帰モデルにおいて、説明変数の中に相関係数が高い組み合わせがあるモデルの予測や信頼性が下がる  \n",
    "上記データのうち、相関の高い要素を除外したい"
   ]
  },
  {
   "cell_type": "code",
   "execution_count": 17,
   "id": "d27e5ea9",
   "metadata": {},
   "outputs": [
    {
     "data": {
      "text/plain": [
       "13111    12269\n",
       "13108    11591\n",
       "13112    10747\n",
       "13103    10580\n",
       "13104    10055\n",
       "         ...  \n",
       "40604        1\n",
       "40213        1\n",
       "40212        1\n",
       "40341        1\n",
       "34309        1\n",
       "Name: 市区町村コード, Length: 618, dtype: int64"
      ]
     },
     "execution_count": 17,
     "metadata": {},
     "output_type": "execute_result"
    }
   ],
   "source": [
    "# 市区町村と市区町村コードは完全に一致したものではないか？\n",
    "\n",
    "# value_countsを使用して、データの種類と数を比較する\n",
    "df[\"市区町村コード\"].value_counts()"
   ]
  },
  {
   "cell_type": "code",
   "execution_count": 18,
   "id": "085d773b",
   "metadata": {},
   "outputs": [
    {
     "data": {
      "text/plain": [
       "大田区       12269\n",
       "江東区       11591\n",
       "世田谷区      10747\n",
       "港区        10580\n",
       "新宿区       10055\n",
       "          ...  \n",
       "田川郡糸田町        1\n",
       "行橋市           1\n",
       "大川市           1\n",
       "粕屋郡宇美町        1\n",
       "安芸郡坂町         1\n",
       "Name: 市区町村名, Length: 618, dtype: int64"
      ]
     },
     "execution_count": 18,
     "metadata": {},
     "output_type": "execute_result"
    }
   ],
   "source": [
    "df[\"市区町村名\"].value_counts()"
   ]
  },
  {
   "cell_type": "markdown",
   "id": "79249592",
   "metadata": {},
   "source": [
    "市区町村コードと市区町村名において、データの種類と数が完全に一致している  \n",
    "上記の結果は、市区町村名と対応する市区町村コードが618個あり、そのそれぞれの出現回数も一致していることを表す"
   ]
  },
  {
   "cell_type": "code",
   "execution_count": 19,
   "id": "cc858f4c",
   "metadata": {},
   "outputs": [],
   "source": [
    "# どちらか一方のカラム(今回は市区町村名)を削除する\n",
    "df = df.drop(\"市区町村名\", axis=1)"
   ]
  },
  {
   "cell_type": "code",
   "execution_count": 26,
   "id": "cb55fd63",
   "metadata": {},
   "outputs": [
    {
     "data": {
      "text/html": [
       "<div>\n",
       "<style scoped>\n",
       "    .dataframe tbody tr th:only-of-type {\n",
       "        vertical-align: middle;\n",
       "    }\n",
       "\n",
       "    .dataframe tbody tr th {\n",
       "        vertical-align: top;\n",
       "    }\n",
       "\n",
       "    .dataframe thead th {\n",
       "        text-align: right;\n",
       "    }\n",
       "</style>\n",
       "<table border=\"1\" class=\"dataframe\">\n",
       "  <thead>\n",
       "    <tr style=\"text-align: right;\">\n",
       "      <th></th>\n",
       "      <th>市区町村コード</th>\n",
       "      <th>建ぺい率（％）</th>\n",
       "      <th>容積率（％）</th>\n",
       "      <th>取引価格（総額）_log</th>\n",
       "    </tr>\n",
       "  </thead>\n",
       "  <tbody>\n",
       "    <tr>\n",
       "      <th>count</th>\n",
       "      <td>637351.000000</td>\n",
       "      <td>614848.000000</td>\n",
       "      <td>614848.000000</td>\n",
       "      <td>637351.000000</td>\n",
       "    </tr>\n",
       "    <tr>\n",
       "      <th>mean</th>\n",
       "      <td>18513.985300</td>\n",
       "      <td>67.601944</td>\n",
       "      <td>301.601876</td>\n",
       "      <td>7.217424</td>\n",
       "    </tr>\n",
       "    <tr>\n",
       "      <th>std</th>\n",
       "      <td>9596.722442</td>\n",
       "      <td>10.402295</td>\n",
       "      <td>148.105400</td>\n",
       "      <td>0.353935</td>\n",
       "    </tr>\n",
       "    <tr>\n",
       "      <th>min</th>\n",
       "      <td>1101.000000</td>\n",
       "      <td>30.000000</td>\n",
       "      <td>50.000000</td>\n",
       "      <td>2.653213</td>\n",
       "    </tr>\n",
       "    <tr>\n",
       "      <th>25%</th>\n",
       "      <td>13106.000000</td>\n",
       "      <td>60.000000</td>\n",
       "      <td>200.000000</td>\n",
       "      <td>7.000000</td>\n",
       "    </tr>\n",
       "    <tr>\n",
       "      <th>50%</th>\n",
       "      <td>14104.000000</td>\n",
       "      <td>60.000000</td>\n",
       "      <td>200.000000</td>\n",
       "      <td>7.255273</td>\n",
       "    </tr>\n",
       "    <tr>\n",
       "      <th>75%</th>\n",
       "      <td>27114.000000</td>\n",
       "      <td>80.000000</td>\n",
       "      <td>400.000000</td>\n",
       "      <td>7.447158</td>\n",
       "    </tr>\n",
       "    <tr>\n",
       "      <th>max</th>\n",
       "      <td>47213.000000</td>\n",
       "      <td>80.000000</td>\n",
       "      <td>1300.000000</td>\n",
       "      <td>9.934498</td>\n",
       "    </tr>\n",
       "  </tbody>\n",
       "</table>\n",
       "</div>"
      ],
      "text/plain": [
       "             市区町村コード        建ぺい率（％）         容積率（％）   取引価格（総額）_log\n",
       "count  637351.000000  614848.000000  614848.000000  637351.000000\n",
       "mean    18513.985300      67.601944     301.601876       7.217424\n",
       "std      9596.722442      10.402295     148.105400       0.353935\n",
       "min      1101.000000      30.000000      50.000000       2.653213\n",
       "25%     13106.000000      60.000000     200.000000       7.000000\n",
       "50%     14104.000000      60.000000     200.000000       7.255273\n",
       "75%     27114.000000      80.000000     400.000000       7.447158\n",
       "max     47213.000000      80.000000    1300.000000       9.934498"
      ]
     },
     "execution_count": 26,
     "metadata": {},
     "output_type": "execute_result"
    }
   ],
   "source": [
    "# 統計量の確認\n",
    "\n",
    "# デフォルトでは数値型が分析対象となり、データ数、平均、四分位数など表示される\n",
    "df.describe()"
   ]
  },
  {
   "cell_type": "code",
   "execution_count": 27,
   "id": "3e33ca3b",
   "metadata": {},
   "outputs": [
    {
     "data": {
      "text/html": [
       "<div>\n",
       "<style scoped>\n",
       "    .dataframe tbody tr th:only-of-type {\n",
       "        vertical-align: middle;\n",
       "    }\n",
       "\n",
       "    .dataframe tbody tr th {\n",
       "        vertical-align: top;\n",
       "    }\n",
       "\n",
       "    .dataframe thead th {\n",
       "        text-align: right;\n",
       "    }\n",
       "</style>\n",
       "<table border=\"1\" class=\"dataframe\">\n",
       "  <thead>\n",
       "    <tr style=\"text-align: right;\">\n",
       "      <th></th>\n",
       "      <th>種類</th>\n",
       "      <th>市区町村コード</th>\n",
       "      <th>都道府県名</th>\n",
       "      <th>地区名</th>\n",
       "      <th>最寄駅：名称</th>\n",
       "      <th>最寄駅：距離（分）</th>\n",
       "      <th>間取り</th>\n",
       "      <th>面積（㎡）</th>\n",
       "      <th>建築年</th>\n",
       "      <th>建物の構造</th>\n",
       "      <th>用途</th>\n",
       "      <th>今後の利用目的</th>\n",
       "      <th>都市計画</th>\n",
       "      <th>建ぺい率（％）</th>\n",
       "      <th>容積率（％）</th>\n",
       "      <th>取引時点</th>\n",
       "      <th>改装</th>\n",
       "      <th>取引の事情等</th>\n",
       "      <th>取引価格（総額）_log</th>\n",
       "    </tr>\n",
       "  </thead>\n",
       "  <tbody>\n",
       "    <tr>\n",
       "      <th>count</th>\n",
       "      <td>637351</td>\n",
       "      <td>637351</td>\n",
       "      <td>637351</td>\n",
       "      <td>637351</td>\n",
       "      <td>637351</td>\n",
       "      <td>637351</td>\n",
       "      <td>637351</td>\n",
       "      <td>637351</td>\n",
       "      <td>637351</td>\n",
       "      <td>637351</td>\n",
       "      <td>637351</td>\n",
       "      <td>637351</td>\n",
       "      <td>637351</td>\n",
       "      <td>637351</td>\n",
       "      <td>637351</td>\n",
       "      <td>637351</td>\n",
       "      <td>637351</td>\n",
       "      <td>637351</td>\n",
       "      <td>637351</td>\n",
       "    </tr>\n",
       "    <tr>\n",
       "      <th>unique</th>\n",
       "      <td>1</td>\n",
       "      <td>618</td>\n",
       "      <td>47</td>\n",
       "      <td>12047</td>\n",
       "      <td>3832</td>\n",
       "      <td>35</td>\n",
       "      <td>64</td>\n",
       "      <td>114</td>\n",
       "      <td>77</td>\n",
       "      <td>13</td>\n",
       "      <td>23</td>\n",
       "      <td>5</td>\n",
       "      <td>17</td>\n",
       "      <td>7</td>\n",
       "      <td>18</td>\n",
       "      <td>58</td>\n",
       "      <td>3</td>\n",
       "      <td>10</td>\n",
       "      <td>380</td>\n",
       "    </tr>\n",
       "    <tr>\n",
       "      <th>top</th>\n",
       "      <td>中古マンション等</td>\n",
       "      <td>13111</td>\n",
       "      <td>東京都</td>\n",
       "      <td>本町</td>\n",
       "      <td>nan</td>\n",
       "      <td>6</td>\n",
       "      <td>３ＬＤＫ</td>\n",
       "      <td>70</td>\n",
       "      <td>平成3年</td>\n",
       "      <td>ＲＣ</td>\n",
       "      <td>住宅</td>\n",
       "      <td>nan</td>\n",
       "      <td>商業地域</td>\n",
       "      <td>60.0</td>\n",
       "      <td>200.0</td>\n",
       "      <td>2014年第１四半期</td>\n",
       "      <td>未改装</td>\n",
       "      <td>nan</td>\n",
       "      <td>7.176091259055681</td>\n",
       "    </tr>\n",
       "    <tr>\n",
       "      <th>freq</th>\n",
       "      <td>637351</td>\n",
       "      <td>12269</td>\n",
       "      <td>190524</td>\n",
       "      <td>5267</td>\n",
       "      <td>2619</td>\n",
       "      <td>50928</td>\n",
       "      <td>272449</td>\n",
       "      <td>83443</td>\n",
       "      <td>21982</td>\n",
       "      <td>431050</td>\n",
       "      <td>583722</td>\n",
       "      <td>362260</td>\n",
       "      <td>172628</td>\n",
       "      <td>349347</td>\n",
       "      <td>293388</td>\n",
       "      <td>13561</td>\n",
       "      <td>419268</td>\n",
       "      <td>619076</td>\n",
       "      <td>20996</td>\n",
       "    </tr>\n",
       "  </tbody>\n",
       "</table>\n",
       "</div>"
      ],
      "text/plain": [
       "              種類 市区町村コード   都道府県名     地区名  最寄駅：名称 最寄駅：距離（分）     間取り   面積（㎡）  \\\n",
       "count     637351  637351  637351  637351  637351    637351  637351  637351   \n",
       "unique         1     618      47   12047    3832        35      64     114   \n",
       "top     中古マンション等   13111     東京都      本町     nan         6    ３ＬＤＫ      70   \n",
       "freq      637351   12269  190524    5267    2619     50928  272449   83443   \n",
       "\n",
       "           建築年   建物の構造      用途 今後の利用目的    都市計画 建ぺい率（％）  容積率（％）        取引時点  \\\n",
       "count   637351  637351  637351  637351  637351  637351  637351      637351   \n",
       "unique      77      13      23       5      17       7      18          58   \n",
       "top       平成3年      ＲＣ      住宅     nan    商業地域    60.0   200.0  2014年第１四半期   \n",
       "freq     21982  431050  583722  362260  172628  349347  293388       13561   \n",
       "\n",
       "            改装  取引の事情等       取引価格（総額）_log  \n",
       "count   637351  637351             637351  \n",
       "unique       3      10                380  \n",
       "top        未改装     nan  7.176091259055681  \n",
       "freq    419268  619076              20996  "
      ]
     },
     "execution_count": 27,
     "metadata": {},
     "output_type": "execute_result"
    }
   ],
   "source": [
    "# astypeを使い分析対象を文字列型に指定すると、データ数、データ種類が表示される\n",
    "df.astype(str).describe()"
   ]
  },
  {
   "cell_type": "markdown",
   "id": "11f72e54",
   "metadata": {},
   "source": [
    "上記の中でデータの種類が1つしかない物を除外する  "
   ]
  },
  {
   "cell_type": "code",
   "execution_count": 28,
   "id": "5494b8a5",
   "metadata": {},
   "outputs": [
    {
     "data": {
      "text/plain": [
       "中古マンション等    637351\n",
       "Name: 種類, dtype: int64"
      ]
     },
     "execution_count": 28,
     "metadata": {},
     "output_type": "execute_result"
    }
   ],
   "source": [
    "df[\"種類\"].value_counts()"
   ]
  },
  {
   "cell_type": "code",
   "execution_count": 30,
   "id": "23793d9a",
   "metadata": {},
   "outputs": [],
   "source": [
    "# 種類カラムを削除\n",
    "df = df.drop(\"種類\", axis=1)"
   ]
  },
  {
   "cell_type": "code",
   "execution_count": null,
   "id": "36d2c87f",
   "metadata": {},
   "outputs": [],
   "source": []
  }
 ],
 "metadata": {
  "kernelspec": {
   "display_name": "Python 3 (ipykernel)",
   "language": "python",
   "name": "python3"
  },
  "language_info": {
   "codemirror_mode": {
    "name": "ipython",
    "version": 3
   },
   "file_extension": ".py",
   "mimetype": "text/x-python",
   "name": "python",
   "nbconvert_exporter": "python",
   "pygments_lexer": "ipython3",
   "version": "3.9.7"
  }
 },
 "nbformat": 4,
 "nbformat_minor": 5
}
